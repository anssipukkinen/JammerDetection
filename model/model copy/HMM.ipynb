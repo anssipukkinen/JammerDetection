{
 "cells": [
  {
   "cell_type": "code",
   "execution_count": 1,
   "metadata": {},
   "outputs": [
    {
     "name": "stderr",
     "output_type": "stream",
     "text": [
      "/var/folders/fd/vqz28gfs1w18c14v378f7vpw0000gp/T/ipykernel_91219/625395030.py:23: SettingWithCopyWarning: \n",
      "A value is trying to be set on a copy of a slice from a DataFrame\n",
      "\n",
      "See the caveats in the documentation: https://pandas.pydata.org/pandas-docs/stable/user_guide/indexing.html#returning-a-view-versus-a-copy\n",
      "  X.fillna(0, inplace=True)\n"
     ]
    },
    {
     "name": "stdout",
     "output_type": "stream",
     "text": [
      "HMM trained for class 0: jammed\n"
     ]
    },
    {
     "name": "stderr",
     "output_type": "stream",
     "text": [
      "Model is not converging.  Current: 2020.4263088527498 is not greater than 2020.4641495873902. Delta is -0.03784073464044013\n"
     ]
    },
    {
     "name": "stdout",
     "output_type": "stream",
     "text": [
      "HMM trained for class 1: legitimate\n",
      "Classification Report:\n",
      "              precision    recall  f1-score   support\n",
      "\n",
      "      jammed       0.24      1.00      0.39       327\n",
      "  legitimate       0.00      0.00      0.00      1011\n",
      "\n",
      "    accuracy                           0.24      1338\n",
      "   macro avg       0.12      0.50      0.20      1338\n",
      "weighted avg       0.06      0.24      0.10      1338\n",
      "\n",
      "Confusion Matrix:\n",
      "[[ 327    0]\n",
      " [1011    0]]\n"
     ]
    },
    {
     "name": "stderr",
     "output_type": "stream",
     "text": [
      "/Users/mmathise/anaconda3/lib/python3.11/site-packages/sklearn/metrics/_classification.py:1344: UndefinedMetricWarning: Precision and F-score are ill-defined and being set to 0.0 in labels with no predicted samples. Use `zero_division` parameter to control this behavior.\n",
      "  _warn_prf(average, modifier, msg_start, len(result))\n",
      "/Users/mmathise/anaconda3/lib/python3.11/site-packages/sklearn/metrics/_classification.py:1344: UndefinedMetricWarning: Precision and F-score are ill-defined and being set to 0.0 in labels with no predicted samples. Use `zero_division` parameter to control this behavior.\n",
      "  _warn_prf(average, modifier, msg_start, len(result))\n",
      "/Users/mmathise/anaconda3/lib/python3.11/site-packages/sklearn/metrics/_classification.py:1344: UndefinedMetricWarning: Precision and F-score are ill-defined and being set to 0.0 in labels with no predicted samples. Use `zero_division` parameter to control this behavior.\n",
      "  _warn_prf(average, modifier, msg_start, len(result))\n"
     ]
    }
   ],
   "source": [
    "import pandas as pd\n",
    "import numpy as np\n",
    "from sklearn.preprocessing import StandardScaler, LabelEncoder\n",
    "from hmmlearn.hmm import GaussianHMM\n",
    "from sklearn.model_selection import train_test_split\n",
    "from sklearn.metrics import classification_report, confusion_matrix\n",
    "\n",
    "# Load the dataset\n",
    "data_path = \"../data/preprocessed_gnss_data.csv\"\n",
    "# df = pd.read_csv(data_path, sep=\";\").head(1500)\n",
    "df = pd.read_csv(data_path, sep=\";\")\n",
    "\n",
    "# Select numeric columns\n",
    "numeric_columns = ['AGC', 'SNR', 'latitude', 'longitude', 'height', 'num_satellites']\n",
    "X = df[numeric_columns]\n",
    "y = df['class']\n",
    "\n",
    "# Encode target labels\n",
    "label_encoder = LabelEncoder()\n",
    "y_encoded = label_encoder.fit_transform(y)  # Map 'legitimate' -> 0, 'jammed' -> 1\n",
    "\n",
    "# Handle missing values\n",
    "X.fillna(0, inplace=True)\n",
    "\n",
    "# Standardize features\n",
    "scaler = StandardScaler()\n",
    "X_scaled = scaler.fit_transform(X)\n",
    "\n",
    "# Split into training and testing sets\n",
    "X_train, X_test, y_train, y_test = train_test_split(X_scaled, y_encoded, test_size=0.3, random_state=42, stratify=y_encoded)\n",
    "\n",
    "# Separate sequences by class for HMM training\n",
    "train_sequences = {label: [] for label in np.unique(y_train)}\n",
    "\n",
    "# Group data by class for training HMMs\n",
    "for label in np.unique(y_train):\n",
    "    train_sequences[label] = X_train[y_train == label]\n",
    "\n",
    "# Train a Gaussian HMM for each class\n",
    "hmm_models = {}\n",
    "for label in np.unique(y_train):\n",
    "    model = GaussianHMM(n_components=3, covariance_type=\"diag\", n_iter=100, random_state=42)\n",
    "    model.fit(train_sequences[label])\n",
    "    hmm_models[label] = model\n",
    "    print(f\"HMM trained for class {label}: {label_encoder.inverse_transform([label])[0]}\")\n",
    "\n",
    "# Predict the class of test sequences\n",
    "def predict_hmm(models, X):\n",
    "    predictions = []\n",
    "    for sample in X:\n",
    "        log_likelihoods = {label: models[label].score(sample.reshape(-1, 1)) for label in models}\n",
    "        predicted_label = max(log_likelihoods, key=log_likelihoods.get)\n",
    "        predictions.append(predicted_label)\n",
    "    return np.array(predictions)\n",
    "\n",
    "# Predict on the test set\n",
    "y_pred = predict_hmm(hmm_models, X_test)\n",
    "\n",
    "# Evaluate the model\n",
    "print(\"Classification Report:\")\n",
    "print(classification_report(y_test, y_pred, target_names=label_encoder.classes_))\n",
    "\n",
    "print(\"Confusion Matrix:\")\n",
    "print(confusion_matrix(y_test, y_pred))\n"
   ]
  }
 ],
 "metadata": {
  "kernelspec": {
   "display_name": "base",
   "language": "python",
   "name": "python3"
  },
  "language_info": {
   "codemirror_mode": {
    "name": "ipython",
    "version": 3
   },
   "file_extension": ".py",
   "mimetype": "text/x-python",
   "name": "python",
   "nbconvert_exporter": "python",
   "pygments_lexer": "ipython3",
   "version": "3.11.7"
  }
 },
 "nbformat": 4,
 "nbformat_minor": 2
}
