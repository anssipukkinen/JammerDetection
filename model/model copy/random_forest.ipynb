{
 "cells": [
  {
   "cell_type": "code",
   "execution_count": 2,
   "metadata": {},
   "outputs": [
    {
     "name": "stdout",
     "output_type": "stream",
     "text": [
      "      timestamp       AGC       SNR  latitude  longitude   height  \\\n",
      "0  1.725971e+12  1.396530  0.621419 -0.790538   0.331466  59.9833   \n",
      "1  1.725971e+12 -0.428091  0.992556 -0.790538   0.331466  59.9833   \n",
      "2  1.725971e+12 -0.428091 -0.120853 -0.790538   0.331466  59.9833   \n",
      "3  1.725971e+12  1.437940  0.621419 -0.803930   0.356746  56.3828   \n",
      "4  1.725971e+12 -0.599573  0.992556 -0.803930   0.356746  56.3828   \n",
      "\n",
      "   num_satellites       class  constellation_GPS  constellation_Galileo  \\\n",
      "0            13.0  legitimate                0.0                    0.0   \n",
      "1            13.0  legitimate                1.0                    0.0   \n",
      "2            13.0  legitimate                0.0                    1.0   \n",
      "3            16.0  legitimate                0.0                    0.0   \n",
      "4            16.0  legitimate                1.0                    0.0   \n",
      "\n",
      "   constellation_QZSS  \n",
      "0                 0.0  \n",
      "1                 0.0  \n",
      "2                 0.0  \n",
      "3                 0.0  \n",
      "4                 0.0  \n",
      "        AGC       SNR\n",
      "0  1.396530  0.621419\n",
      "1 -0.428091  0.992556\n",
      "2 -0.428091 -0.120853\n",
      "3  1.437940  0.621419\n",
      "4 -0.599573  0.992556\n",
      "Classification Report:\n",
      "               precision    recall  f1-score   support\n",
      "\n",
      "      jammed       0.89      0.83      0.86       327\n",
      "  legitimate       0.94      0.97      0.96      1011\n",
      "\n",
      "    accuracy                           0.93      1338\n",
      "   macro avg       0.92      0.90      0.91      1338\n",
      "weighted avg       0.93      0.93      0.93      1338\n",
      "\n",
      "Confusion Matrix:\n",
      " [[270  57]\n",
      " [ 33 978]]\n",
      "Feature Importances:\n",
      " AGC    0.687296\n",
      "SNR    0.312704\n",
      "dtype: float64\n"
     ]
    }
   ],
   "source": [
    "import pandas as pd\n",
    "from sklearn.model_selection import train_test_split\n",
    "from sklearn.ensemble import RandomForestClassifier\n",
    "from sklearn.metrics import classification_report, confusion_matrix\n",
    "\n",
    "# Load the preprocessed dataset\n",
    "df = pd.read_csv('../data/preprocessed_gnss_data.csv', delimiter=';')\n",
    "print(df.head())\n",
    "# Separate timestamp, lat and long\n",
    "#df = df.drop(columns=['timestamp', 'latitude', 'longitude'])\n",
    "df = df.drop(columns=['timestamp', 'num_satellites', 'height', 'latitude', 'longitude'])\n",
    "df = df.drop(columns=['constellation_GPS', 'constellation_Galileo', 'constellation_QZSS'])\n",
    "\n",
    "# Separate features and target variable\n",
    "X = df.drop('class', axis=1)\n",
    "y = df['class']\n",
    "print(X.head())\n",
    "# Split the data into training and testing sets\n",
    "X_train, X_test, y_train, y_test = train_test_split(X, y, test_size=0.3, random_state=42, stratify=y)\n",
    "\n",
    "# Initialize and train the Random Forest classifier\n",
    "rf_classifier = RandomForestClassifier(n_estimators=100, random_state=42)\n",
    "rf_classifier.fit(X_train, y_train)\n",
    "\n",
    "# Make predictions on the test set\n",
    "y_pred = rf_classifier.predict(X_test)\n",
    "\n",
    "# Evaluate the model\n",
    "\n",
    "report = classification_report(y_test, y_pred)\n",
    "print('Classification Report:\\n', report)\n",
    "\n",
    "cm = confusion_matrix(y_test, y_pred)\n",
    "print('Confusion Matrix:\\n', cm)\n",
    "\n",
    "feature_importances = pd.Series(rf_classifier.feature_importances_, index=X.columns)\n",
    "feature_importances.sort_values(ascending=False, inplace=True)\n",
    "print('Feature Importances:\\n', feature_importances)\n"
   ]
  },
  {
   "cell_type": "code",
   "execution_count": null,
   "metadata": {},
   "outputs": [],
   "source": []
  }
 ],
 "metadata": {
  "kernelspec": {
   "display_name": "Python 3",
   "language": "python",
   "name": "python3"
  },
  "language_info": {
   "codemirror_mode": {
    "name": "ipython",
    "version": 3
   },
   "file_extension": ".py",
   "mimetype": "text/x-python",
   "name": "python",
   "nbconvert_exporter": "python",
   "pygments_lexer": "ipython3",
   "version": "3.11.7"
  }
 },
 "nbformat": 4,
 "nbformat_minor": 2
}
