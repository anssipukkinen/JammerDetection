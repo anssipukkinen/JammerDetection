{
 "cells": [
  {
   "cell_type": "code",
   "execution_count": 14,
   "metadata": {},
   "outputs": [],
   "source": [
    "import pandas as pd\n",
    "import numpy as np\n",
    "from sklearn.model_selection import train_test_split\n",
    "from sklearn.preprocessing import StandardScaler\n",
    "from sklearn.metrics import classification_report, confusion_matrix\n",
    "import torch\n",
    "from torch.utils.data import DataLoader, TensorDataset\n",
    "\n",
    "# Load the dataset\n",
    "df = pd.read_csv('../data/preprocessed_gnss_data.csv', delimiter=';')\n",
    "\n",
    "# Handle missing values: Fill numeric columns with mean\n",
    "numeric_columns = df.select_dtypes(include=['number']).columns\n",
    "df[numeric_columns] = df[numeric_columns].fillna(df[numeric_columns].mean())\n",
    "\n",
    "# Convert target to binary\n",
    "df['class'] = df['class'].map({'legitimate': 0, 'jammed': 1})\n",
    "\n",
    "# Split features (X) and target (y)\n",
    "X = df.drop(['class', 'timestamp'], axis=1)  # Drop timestamp if not relevant\n",
    "y = df['class']\n",
    "\n",
    "# Standardize features\n",
    "scaler = StandardScaler()\n",
    "X = scaler.fit_transform(X)\n",
    "\n",
    "# Reshape X for PyTorch (sequence_length=1 in this case)\n",
    "X = X.reshape((X.shape[0], 1, X.shape[1]))\n",
    "\n",
    "# Convert to PyTorch tensors\n",
    "X_tensor = torch.tensor(X, dtype=torch.float32)\n",
    "y_tensor = torch.tensor(y.values, dtype=torch.long)\n",
    "\n",
    "# Split into training and testing sets\n",
    "X_train, X_test, y_train, y_test = train_test_split(X_tensor, y_tensor, test_size=0.3, random_state=42, stratify=y)\n",
    "\n",
    "# Create DataLoaders for batch processing\n",
    "train_dataset = TensorDataset(X_train, y_train)\n",
    "test_dataset = TensorDataset(X_test, y_test)\n",
    "\n",
    "train_loader = DataLoader(train_dataset, batch_size=32, shuffle=True)\n",
    "test_loader = DataLoader(test_dataset, batch_size=32, shuffle=False)\n"
   ]
  },
  {
   "cell_type": "code",
   "execution_count": 15,
   "metadata": {},
   "outputs": [],
   "source": [
    "import torch.nn as nn\n",
    "\n",
    "# Define the RNN model\n",
    "class RNNClassifier(nn.Module):\n",
    "    def __init__(self, input_size, hidden_size, output_size):\n",
    "        super(RNNClassifier, self).__init__()\n",
    "        self.rnn = nn.RNN(input_size, hidden_size, batch_first=True)\n",
    "        self.fc = nn.Linear(hidden_size, output_size)\n",
    "        self.softmax = nn.Softmax(dim=1)\n",
    "\n",
    "    def forward(self, x):\n",
    "        out, _ = self.rnn(x)  # RNN output\n",
    "        out = out[:, -1, :]   # Take the last output (many-to-one)\n",
    "        out = self.fc(out)    # Fully connected layer\n",
    "        return self.softmax(out)\n",
    "\n",
    "# Hyperparameters\n",
    "input_size = X.shape[2]\n",
    "hidden_size = 64\n",
    "output_size = 2  # Binary classification\n",
    "\n",
    "# Instantiate the model\n",
    "model = RNNClassifier(input_size, hidden_size, output_size)\n"
   ]
  },
  {
   "cell_type": "code",
   "execution_count": 16,
   "metadata": {},
   "outputs": [
    {
     "name": "stdout",
     "output_type": "stream",
     "text": [
      "Epoch 1/20, Loss: 0.5579\n",
      "Epoch 2/20, Loss: 0.4560\n",
      "Epoch 3/20, Loss: 0.4319\n",
      "Epoch 4/20, Loss: 0.4159\n",
      "Epoch 5/20, Loss: 0.4061\n",
      "Epoch 6/20, Loss: 0.3984\n",
      "Epoch 7/20, Loss: 0.3924\n",
      "Epoch 8/20, Loss: 0.3877\n",
      "Epoch 9/20, Loss: 0.3845\n",
      "Epoch 10/20, Loss: 0.3813\n",
      "Epoch 11/20, Loss: 0.3794\n",
      "Epoch 12/20, Loss: 0.3778\n",
      "Epoch 13/20, Loss: 0.3767\n",
      "Epoch 14/20, Loss: 0.3756\n",
      "Epoch 15/20, Loss: 0.3743\n",
      "Epoch 16/20, Loss: 0.3749\n",
      "Epoch 17/20, Loss: 0.3733\n",
      "Epoch 18/20, Loss: 0.3730\n",
      "Epoch 19/20, Loss: 0.3727\n",
      "Epoch 20/20, Loss: 0.3721\n"
     ]
    }
   ],
   "source": [
    "import torch.optim as optim\n",
    "\n",
    "# Define loss function and optimizer\n",
    "criterion = nn.CrossEntropyLoss()\n",
    "optimizer = optim.Adam(model.parameters(), lr=0.001)\n",
    "\n",
    "# Training loop\n",
    "num_epochs = 20\n",
    "for epoch in range(num_epochs):\n",
    "    model.train()\n",
    "    total_loss = 0\n",
    "    for X_batch, y_batch in train_loader:\n",
    "        optimizer.zero_grad()          # Clear gradients\n",
    "        outputs = model(X_batch)       # Forward pass\n",
    "        loss = criterion(outputs, y_batch)  # Compute loss\n",
    "        loss.backward()                # Backward pass\n",
    "        optimizer.step()               # Update weights\n",
    "        total_loss += loss.item()\n",
    "    \n",
    "    print(f\"Epoch {epoch+1}/{num_epochs}, Loss: {total_loss/len(train_loader):.4f}\")\n"
   ]
  },
  {
   "cell_type": "code",
   "execution_count": 17,
   "metadata": {},
   "outputs": [
    {
     "name": "stdout",
     "output_type": "stream",
     "text": [
      "Classification Report:\n",
      "              precision    recall  f1-score   support\n",
      "\n",
      "           0       0.95      0.96      0.96      1011\n",
      "           1       0.89      0.86      0.87       327\n",
      "\n",
      "    accuracy                           0.94      1338\n",
      "   macro avg       0.92      0.91      0.92      1338\n",
      "weighted avg       0.94      0.94      0.94      1338\n",
      "\n",
      "Confusion Matrix:\n",
      "[[975  36]\n",
      " [ 46 281]]\n"
     ]
    }
   ],
   "source": [
    "# Evaluation\n",
    "model.eval()\n",
    "y_pred = []\n",
    "y_true = []\n",
    "\n",
    "with torch.no_grad():\n",
    "    for X_batch, y_batch in test_loader:\n",
    "        outputs = model(X_batch)\n",
    "        _, predicted = torch.max(outputs, 1)\n",
    "        y_pred.extend(predicted.cpu().numpy())\n",
    "        y_true.extend(y_batch.cpu().numpy())\n",
    "\n",
    "# Classification report and confusion matrix\n",
    "print(\"Classification Report:\")\n",
    "print(classification_report(y_true, y_pred))\n",
    "\n",
    "print(\"Confusion Matrix:\")\n",
    "print(confusion_matrix(y_true, y_pred))\n"
   ]
  }
 ],
 "metadata": {
  "kernelspec": {
   "display_name": "base",
   "language": "python",
   "name": "python3"
  },
  "language_info": {
   "codemirror_mode": {
    "name": "ipython",
    "version": 3
   },
   "file_extension": ".py",
   "mimetype": "text/x-python",
   "name": "python",
   "nbconvert_exporter": "python",
   "pygments_lexer": "ipython3",
   "version": "3.11.7"
  }
 },
 "nbformat": 4,
 "nbformat_minor": 2
}
